{
 "cells": [
  {
   "cell_type": "code",
   "execution_count": 1,
   "metadata": {},
   "outputs": [],
   "source": [
    "with open('./data.txt') as f:\n",
    "    data = f.read().splitlines()"
   ]
  },
  {
   "cell_type": "code",
   "execution_count": 2,
   "metadata": {
    "collapsed": true
   },
   "outputs": [],
   "source": [
    "result = {k: [] for k in range(len(data))}"
   ]
  },
  {
   "cell_type": "code",
   "execution_count": 3,
   "metadata": {},
   "outputs": [],
   "source": [
    "for i in data:\n",
    "    result[int(i.split('<->')[0])] = [int(x) for x in i.split('<->')[1].split(',')]"
   ]
  },
  {
   "cell_type": "code",
   "execution_count": 4,
   "metadata": {
    "scrolled": false
   },
   "outputs": [
    {
     "name": "stdout",
     "output_type": "stream",
     "text": [
      "Total number in initial group: 115\n"
     ]
    }
   ],
   "source": [
    "group = set([0])\n",
    "while True:\n",
    "    additional_values = []\n",
    "    length = len(group)\n",
    "    for item in group:\n",
    "        additional_values.extend(result[item])\n",
    "    group = group.union(additional_values)\n",
    "    if len(group) == length:\n",
    "        # Nothing new is happening, let's get out of here!\n",
    "        break\n",
    "print('Total number in initial group: {}'.format(len(group)))"
   ]
  },
  {
   "cell_type": "markdown",
   "metadata": {},
   "source": [
    "### Part 2 - how many groups are there in total?"
   ]
  },
  {
   "cell_type": "code",
   "execution_count": 5,
   "metadata": {
    "collapsed": true
   },
   "outputs": [],
   "source": [
    "def get_group(start):\n",
    "    group = set([start])\n",
    "    while True:\n",
    "        additional_values = []\n",
    "        length = len(group)\n",
    "        for item in group:\n",
    "            additional_values.extend(result[item])\n",
    "        group = group.union(additional_values)\n",
    "        if len(group) == length:\n",
    "            # Nothing new is happening, let's get out of here!\n",
    "            break\n",
    "    return group"
   ]
  },
  {
   "cell_type": "code",
   "execution_count": 6,
   "metadata": {},
   "outputs": [
    {
     "name": "stdout",
     "output_type": "stream",
     "text": [
      "Number of groups: 221\n"
     ]
    }
   ],
   "source": [
    "n_groups = 0\n",
    "total = set(range(len(data)))  # Total items in a set\n",
    "while len(total) > 0:\n",
    "    start = next(iter(total))\n",
    "    group = get_group(start)\n",
    "    total = total - group\n",
    "    n_groups += 1\n",
    "print('Number of groups: {}'.format(n_groups))"
   ]
  }
 ],
 "metadata": {
  "kernelspec": {
   "display_name": "Python 3",
   "language": "python",
   "name": "python3"
  },
  "language_info": {
   "codemirror_mode": {
    "name": "ipython",
    "version": 3
   },
   "file_extension": ".py",
   "mimetype": "text/x-python",
   "name": "python",
   "nbconvert_exporter": "python",
   "pygments_lexer": "ipython3",
   "version": "3.6.0"
  }
 },
 "nbformat": 4,
 "nbformat_minor": 2
}
