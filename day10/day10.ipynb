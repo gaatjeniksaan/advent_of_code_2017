{
 "cells": [
  {
   "cell_type": "code",
   "execution_count": 1,
   "metadata": {
    "collapsed": true
   },
   "outputs": [],
   "source": [
    "from functools import reduce\n",
    "import operator"
   ]
  },
  {
   "cell_type": "code",
   "execution_count": 2,
   "metadata": {
    "collapsed": true
   },
   "outputs": [],
   "source": [
    "with open('./data.txt') as f:\n",
    "    data = f.read()\n",
    "    data = data[:-1].split(',')\n",
    "    data = list(map(int, data))  # Change str to int"
   ]
  },
  {
   "cell_type": "markdown",
   "metadata": {},
   "source": [
    "* Step 1, select sublist based on data\n",
    "* Step 2, reverse sublist\n",
    "* Step 3, insert sublist, check for index out of range\n",
    "* Step 4, update `step_size`\n",
    "* Step 5, repeat\n",
    "* Step 6, take first two elements, multiply, profit"
   ]
  },
  {
   "cell_type": "code",
   "execution_count": 3,
   "metadata": {},
   "outputs": [
    {
     "name": "stdout",
     "output_type": "stream",
     "text": [
      "answer part 1: 15990\n"
     ]
    }
   ],
   "source": [
    "step_size = 0\n",
    "start_pos = 0\n",
    "l = list(range(256))\n",
    "size = len(l)\n",
    "\n",
    "for i in data:    \n",
    "    start_pos = start_pos % size\n",
    "    \n",
    "    # Create sublist\n",
    "    sublist = []\n",
    "    for j in range(start_pos, start_pos + i):\n",
    "        sublist.append(l[j % size])\n",
    "    \n",
    "    # Flip it and reverse it\n",
    "    sublist = sublist[::-1]\n",
    "    \n",
    "    # Reinsert sublist\n",
    "    counter = 0\n",
    "    for k in range(start_pos, start_pos + i):\n",
    "        l[k % size] = sublist[counter]\n",
    "        counter += 1\n",
    "    \n",
    "    start_pos += i + step_size\n",
    "    step_size += 1\n",
    "    \n",
    "print('answer part 1: {}'.format(l[0] * l[1]))"
   ]
  },
  {
   "cell_type": "markdown",
   "metadata": {},
   "source": [
    "### Part 2"
   ]
  },
  {
   "cell_type": "code",
   "execution_count": 4,
   "metadata": {},
   "outputs": [],
   "source": [
    "# Let's read in the data a bit cleaner (shamelessly copied/learned from Reddit)\n",
    "d = [ord(x) for x in open('./data.txt').read().rstrip()]\n",
    "d.extend([17, 31, 73, 47, 23])\n",
    "start_pos = 0\n",
    "step_size = 0\n",
    "l = list(range(256))\n",
    "size = len(l)"
   ]
  },
  {
   "cell_type": "code",
   "execution_count": 5,
   "metadata": {
    "scrolled": true
   },
   "outputs": [],
   "source": [
    "# Loop this badboy 64 times\n",
    "for _ in range(64):\n",
    "    for i in d:    \n",
    "        start_pos = start_pos % size\n",
    "\n",
    "        # Create sublist\n",
    "        sublist = []\n",
    "        for j in range(start_pos, start_pos + i):\n",
    "            sublist.append(l[j % size])\n",
    "\n",
    "        # Flip it and reverse it\n",
    "        sublist.reverse()\n",
    "        \n",
    "        # Reinsert sublist\n",
    "        counter = 0\n",
    "        for k in range(start_pos, start_pos + i):\n",
    "            l[k % size] = sublist[counter]\n",
    "            counter += 1\n",
    "\n",
    "        start_pos += i + step_size\n",
    "        step_size += 1"
   ]
  },
  {
   "cell_type": "markdown",
   "metadata": {},
   "source": [
    "### Now let's go from sparse hash to dense hash"
   ]
  },
  {
   "cell_type": "code",
   "execution_count": 6,
   "metadata": {},
   "outputs": [
    {
     "data": {
      "text/plain": [
       "'90adb097dd55dea8305c900372258ac6'"
      ]
     },
     "execution_count": 6,
     "metadata": {},
     "output_type": "execute_result"
    }
   ],
   "source": [
    "dense_hash_hex = []\n",
    "for i in range(16):\n",
    "    start = i * 16\n",
    "    end = start + 16\n",
    "    \n",
    "    sublist = l[start:end]\n",
    "    \n",
    "    dense_hash_hex.append(format(reduce(operator.xor, sublist), '02x'))\n",
    "    \n",
    "\n",
    "''.join(dense_hash_hex)"
   ]
  },
  {
   "cell_type": "code",
   "execution_count": null,
   "metadata": {
    "collapsed": true
   },
   "outputs": [],
   "source": []
  }
 ],
 "metadata": {
  "kernelspec": {
   "display_name": "Python 3",
   "language": "python",
   "name": "python3"
  },
  "language_info": {
   "codemirror_mode": {
    "name": "ipython",
    "version": 3
   },
   "file_extension": ".py",
   "mimetype": "text/x-python",
   "name": "python",
   "nbconvert_exporter": "python",
   "pygments_lexer": "ipython3",
   "version": "3.6.0"
  }
 },
 "nbformat": 4,
 "nbformat_minor": 2
}
