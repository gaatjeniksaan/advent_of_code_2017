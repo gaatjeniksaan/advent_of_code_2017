{
 "cells": [
  {
   "cell_type": "code",
   "execution_count": 4,
   "metadata": {
    "collapsed": true
   },
   "outputs": [],
   "source": [
    "data = []\n",
    "with open('./data.txt') as f:\n",
    "    for line in f:\n",
    "        data.append(line)\n",
    "\n",
    "# Remove last character '\\n' \n",
    "data = data[0].split('\\n')[0]"
   ]
  },
  {
   "cell_type": "code",
   "execution_count": 5,
   "metadata": {},
   "outputs": [
    {
     "data": {
      "text/plain": [
       "'{{{{{{<{\"\"!!!>{>},{<i!>u!>!!\"{!!o}!>,<!u!>,<!!!!>}},{<{!!!>},<,\\'}!!!ou!>!>,<!ee!!},!!!>},<u>}},{{<,!'"
      ]
     },
     "execution_count": 5,
     "metadata": {},
     "output_type": "execute_result"
    }
   ],
   "source": [
    "data[0:100]"
   ]
  },
  {
   "cell_type": "code",
   "execution_count": 6,
   "metadata": {
    "collapsed": true
   },
   "outputs": [],
   "source": [
    "def remove_garbage(string):\n",
    "    skip_next = False\n",
    "    open_garbage = False\n",
    "    result = ''\n",
    "    garbage_count = 0\n",
    "    \n",
    "    for char in string:\n",
    "        if skip_next:\n",
    "            skip_next = False\n",
    "            continue\n",
    "        \n",
    "        if char == '!':\n",
    "            skip_next = True\n",
    "            continue\n",
    "        \n",
    "        elif char == '<' and not open_garbage:\n",
    "            open_garbage = True\n",
    "            continue\n",
    "        \n",
    "        elif char == '>':\n",
    "            open_garbage = False\n",
    "            \n",
    "        else:\n",
    "            if not open_garbage:\n",
    "                result += char\n",
    "        \n",
    "        # Check for garbage count:\n",
    "        if open_garbage and not skip_next:\n",
    "            garbage_count += 1\n",
    "    \n",
    "    return result, garbage_count"
   ]
  },
  {
   "cell_type": "code",
   "execution_count": 7,
   "metadata": {
    "collapsed": true
   },
   "outputs": [],
   "source": [
    "processed_data, garbage_count = remove_garbage(data)"
   ]
  },
  {
   "cell_type": "code",
   "execution_count": 8,
   "metadata": {
    "collapsed": true
   },
   "outputs": [],
   "source": [
    "def get_score(data):\n",
    "    total_score = 0\n",
    "    current_depth = 0\n",
    "    \n",
    "    for char in data:\n",
    "        \n",
    "        if char == '{':\n",
    "            current_depth += 1\n",
    "        elif char == '}':\n",
    "            total_score += current_depth\n",
    "            current_depth -= 1\n",
    "        else:\n",
    "            continue\n",
    "    \n",
    "    return total_score"
   ]
  },
  {
   "cell_type": "code",
   "execution_count": 9,
   "metadata": {},
   "outputs": [
    {
     "name": "stdout",
     "output_type": "stream",
     "text": [
      "Total score: 16021, total garbage characters: 7685\n"
     ]
    }
   ],
   "source": [
    "print('Total score: {}, total garbage characters: {}'.format(get_score(processed_data), garbage_count))"
   ]
  }
 ],
 "metadata": {
  "kernelspec": {
   "display_name": "Python 3",
   "language": "python",
   "name": "python3"
  },
  "language_info": {
   "codemirror_mode": {
    "name": "ipython",
    "version": 3
   },
   "file_extension": ".py",
   "mimetype": "text/x-python",
   "name": "python",
   "nbconvert_exporter": "python",
   "pygments_lexer": "ipython3",
   "version": "3.6.0"
  }
 },
 "nbformat": 4,
 "nbformat_minor": 2
}
