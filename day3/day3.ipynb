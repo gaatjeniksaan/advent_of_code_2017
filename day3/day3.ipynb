{
 "cells": [
  {
   "cell_type": "code",
   "execution_count": 16,
   "metadata": {
    "collapsed": true
   },
   "outputs": [],
   "source": [
    "with open('./data.txt') as f:\n",
    "    data = int(f.read().splitlines()[0])"
   ]
  },
  {
   "cell_type": "code",
   "execution_count": 17,
   "metadata": {},
   "outputs": [
    {
     "data": {
      "text/plain": [
       "368078"
      ]
     },
     "execution_count": 17,
     "metadata": {},
     "output_type": "execute_result"
    }
   ],
   "source": [
    "data"
   ]
  },
  {
   "cell_type": "code",
   "execution_count": 52,
   "metadata": {
    "collapsed": true
   },
   "outputs": [],
   "source": [
    "def get_shortest_distance(data):\n",
    "    x, y = 0, 0\n",
    "    count = 1\n",
    "    sign = 1\n",
    "    residual = data\n",
    "    while True:\n",
    "        #print('residial: {}, count: {}, sign: {}'.format(residual, count, sign))\n",
    "        for i in range(count):\n",
    "            x += sign\n",
    "            residual -= 1\n",
    "            if residual == 1:\n",
    "                return abs(x) + abs(y)\n",
    "        for j in range(count):\n",
    "            y += sign\n",
    "            residual -= 1\n",
    "            if residual == 1:\n",
    "                return abs(x) + abs(y)\n",
    "        sign *= -1\n",
    "        count += 1"
   ]
  },
  {
   "cell_type": "code",
   "execution_count": 54,
   "metadata": {},
   "outputs": [
    {
     "data": {
      "text/plain": [
       "31"
      ]
     },
     "execution_count": 54,
     "metadata": {},
     "output_type": "execute_result"
    }
   ],
   "source": [
    "get_shortest_distance(1024)"
   ]
  },
  {
   "cell_type": "markdown",
   "metadata": {},
   "source": [
    "### Lazy option is to just download the sequence from https://oeis.org/A141481/b141481.txt"
   ]
  },
  {
   "cell_type": "code",
   "execution_count": 67,
   "metadata": {
    "collapsed": true
   },
   "outputs": [],
   "source": [
    "with open('./oeis.txt') as f:\n",
    "    results = [int(x.split(' ')[1]) for x in f.read().splitlines()]"
   ]
  },
  {
   "cell_type": "code",
   "execution_count": 68,
   "metadata": {},
   "outputs": [
    {
     "name": "stdout",
     "output_type": "stream",
     "text": [
      "369601\n"
     ]
    }
   ],
   "source": [
    "for i in results:\n",
    "    if i > data:\n",
    "        print(i)\n",
    "        break"
   ]
  },
  {
   "cell_type": "code",
   "execution_count": null,
   "metadata": {
    "collapsed": true
   },
   "outputs": [],
   "source": []
  }
 ],
 "metadata": {
  "kernelspec": {
   "display_name": "Python 3",
   "language": "python",
   "name": "python3"
  },
  "language_info": {
   "codemirror_mode": {
    "name": "ipython",
    "version": 3
   },
   "file_extension": ".py",
   "mimetype": "text/x-python",
   "name": "python",
   "nbconvert_exporter": "python",
   "pygments_lexer": "ipython3",
   "version": "3.6.0"
  }
 },
 "nbformat": 4,
 "nbformat_minor": 2
}
