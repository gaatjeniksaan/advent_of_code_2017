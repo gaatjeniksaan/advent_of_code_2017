{
 "cells": [
  {
   "cell_type": "code",
   "execution_count": 1,
   "metadata": {
    "collapsed": true
   },
   "outputs": [],
   "source": [
    "with open('./data.txt') as f:\n",
    "    data = f.read().split(',')"
   ]
  },
  {
   "cell_type": "markdown",
   "metadata": {},
   "source": [
    "### Part 1 & 2\n",
    "To the rescue: http://keekerdc.com/2011/03/hexagon-grids-coordinate-systems-and-distance-calculations/"
   ]
  },
  {
   "cell_type": "code",
   "execution_count": 2,
   "metadata": {},
   "outputs": [
    {
     "name": "stdout",
     "output_type": "stream",
     "text": [
      "Distance is 834\n",
      "Maximum is 1569\n"
     ]
    }
   ],
   "source": [
    "x = 0\n",
    "y = 0\n",
    "z = 0\n",
    "maximum = 0\n",
    "for move in data:\n",
    "    if move is 'n':\n",
    "        y += 1\n",
    "        z -= 1\n",
    "    elif move == 's':\n",
    "        y -= 1\n",
    "        z += 1\n",
    "    elif move == 'nw':\n",
    "        x += 1\n",
    "        z -= 1\n",
    "    elif move == 'se':\n",
    "        x -= 1\n",
    "        z += 1       \n",
    "    elif move == 'ne':\n",
    "        x -= 1\n",
    "        y += 1\n",
    "    elif move == 'sw':\n",
    "        x += 1\n",
    "        y -= 1\n",
    "    else:\n",
    "        print('error, do not recognize move {}'.format(move))\n",
    "    \n",
    "    temp = [abs(i) for i  in [x, y, z]]\n",
    "    if maximum < max(temp):\n",
    "        maximum = max(temp)\n",
    "\n",
    "result = [abs(i) for i  in [x, y, z]]\n",
    "print('Distance is {}'.format(max(result)))\n",
    "print('Maximum is {}'.format(maximum))"
   ]
  }
 ],
 "metadata": {
  "kernelspec": {
   "display_name": "Python 3",
   "language": "python",
   "name": "python3"
  },
  "language_info": {
   "codemirror_mode": {
    "name": "ipython",
    "version": 3
   },
   "file_extension": ".py",
   "mimetype": "text/x-python",
   "name": "python",
   "nbconvert_exporter": "python",
   "pygments_lexer": "ipython3",
   "version": "3.6.0"
  }
 },
 "nbformat": 4,
 "nbformat_minor": 2
}
