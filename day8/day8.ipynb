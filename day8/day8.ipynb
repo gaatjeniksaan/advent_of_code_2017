{
 "cells": [
  {
   "cell_type": "code",
   "execution_count": 1,
   "metadata": {
    "collapsed": true
   },
   "outputs": [],
   "source": [
    "from collections import defaultdict\n",
    "import pandas as pd"
   ]
  },
  {
   "cell_type": "code",
   "execution_count": 2,
   "metadata": {
    "collapsed": true
   },
   "outputs": [],
   "source": [
    "data = []\n",
    "test = []\n",
    "with open('./data.txt') as f:\n",
    "    for line in f:\n",
    "        line = line.replace('\\n', '')\n",
    "        data.append(line.split(' '))\n",
    "df = pd.DataFrame(data, columns=['object1', 'operator', 'amount', 'if', 'object2', 'condition', 'amount_for_condition'])\n",
    "\n",
    "# Cast 'amount' and 'amount_for_condition' to int\n",
    "df['amount'] = df['amount'].astype(int)\n",
    "df['amount_for_condition'] = df['amount_for_condition'].astype(int)"
   ]
  },
  {
   "cell_type": "code",
   "execution_count": 3,
   "metadata": {},
   "outputs": [
    {
     "data": {
      "text/html": [
       "<div>\n",
       "<style>\n",
       "    .dataframe thead tr:only-child th {\n",
       "        text-align: right;\n",
       "    }\n",
       "\n",
       "    .dataframe thead th {\n",
       "        text-align: left;\n",
       "    }\n",
       "\n",
       "    .dataframe tbody tr th {\n",
       "        vertical-align: top;\n",
       "    }\n",
       "</style>\n",
       "<table border=\"1\" class=\"dataframe\">\n",
       "  <thead>\n",
       "    <tr style=\"text-align: right;\">\n",
       "      <th></th>\n",
       "      <th>object1</th>\n",
       "      <th>operator</th>\n",
       "      <th>amount</th>\n",
       "      <th>if</th>\n",
       "      <th>object2</th>\n",
       "      <th>condition</th>\n",
       "      <th>amount_for_condition</th>\n",
       "    </tr>\n",
       "  </thead>\n",
       "  <tbody>\n",
       "    <tr>\n",
       "      <th>0</th>\n",
       "      <td>j</td>\n",
       "      <td>inc</td>\n",
       "      <td>-19</td>\n",
       "      <td>if</td>\n",
       "      <td>jhb</td>\n",
       "      <td>&gt;=</td>\n",
       "      <td>10</td>\n",
       "    </tr>\n",
       "    <tr>\n",
       "      <th>1</th>\n",
       "      <td>es</td>\n",
       "      <td>inc</td>\n",
       "      <td>-432</td>\n",
       "      <td>if</td>\n",
       "      <td>gbu</td>\n",
       "      <td>&lt;=</td>\n",
       "      <td>-5</td>\n",
       "    </tr>\n",
       "    <tr>\n",
       "      <th>2</th>\n",
       "      <td>es</td>\n",
       "      <td>inc</td>\n",
       "      <td>278</td>\n",
       "      <td>if</td>\n",
       "      <td>ib</td>\n",
       "      <td>&gt;</td>\n",
       "      <td>-9</td>\n",
       "    </tr>\n",
       "    <tr>\n",
       "      <th>3</th>\n",
       "      <td>es</td>\n",
       "      <td>inc</td>\n",
       "      <td>-835</td>\n",
       "      <td>if</td>\n",
       "      <td>ib</td>\n",
       "      <td>&gt;=</td>\n",
       "      <td>-6</td>\n",
       "    </tr>\n",
       "    <tr>\n",
       "      <th>4</th>\n",
       "      <td>q</td>\n",
       "      <td>dec</td>\n",
       "      <td>420</td>\n",
       "      <td>if</td>\n",
       "      <td>buw</td>\n",
       "      <td>==</td>\n",
       "      <td>-2</td>\n",
       "    </tr>\n",
       "  </tbody>\n",
       "</table>\n",
       "</div>"
      ],
      "text/plain": [
       "  object1 operator  amount  if object2 condition  amount_for_condition\n",
       "0       j      inc     -19  if     jhb        >=                    10\n",
       "1      es      inc    -432  if     gbu        <=                    -5\n",
       "2      es      inc     278  if      ib         >                    -9\n",
       "3      es      inc    -835  if      ib        >=                    -6\n",
       "4       q      dec     420  if     buw        ==                    -2"
      ]
     },
     "execution_count": 3,
     "metadata": {},
     "output_type": "execute_result"
    }
   ],
   "source": [
    "df.head()"
   ]
  },
  {
   "cell_type": "code",
   "execution_count": 4,
   "metadata": {
    "collapsed": true
   },
   "outputs": [],
   "source": [
    "objects = defaultdict(int)"
   ]
  },
  {
   "cell_type": "code",
   "execution_count": 5,
   "metadata": {
    "collapsed": true
   },
   "outputs": [],
   "source": [
    "# Set all objects to 0 by checking presence in defaultdict\n",
    "for obj in df.object1.unique():\n",
    "    objects[obj]"
   ]
  },
  {
   "cell_type": "markdown",
   "metadata": {},
   "source": [
    "### Step 1, loop over every row in df\n",
    "### Step 2, decipher conditions by calling relevant object in objects defaultdict\n",
    "### Step 3, if condition satisfies, adjust value\n",
    "### Step 4, get maximum value"
   ]
  },
  {
   "cell_type": "code",
   "execution_count": 6,
   "metadata": {
    "collapsed": true
   },
   "outputs": [],
   "source": [
    "def apply_condition(condition_string, object2, amount_for_condition):\n",
    "    \n",
    "    allowed_conditions = ('>=', '<=', '>', '<', '==', '!=')\n",
    "    if condition_string not in allowed_conditions:\n",
    "        raise ValueError('Condition {} not found'.format(condition_string))\n",
    "        \n",
    "    if condition_string == '>=':\n",
    "        if object2 >= amount_for_condition:\n",
    "            return True\n",
    "    \n",
    "    elif condition_string == '<=':\n",
    "        if object2 <= amount_for_condition:\n",
    "            return True\n",
    "    \n",
    "    elif condition_string == '>':\n",
    "        if object2 > amount_for_condition:\n",
    "            return True\n",
    "        \n",
    "    elif condition_string == '<':\n",
    "        if object2 < amount_for_condition:\n",
    "            return True\n",
    "        \n",
    "    elif condition_string == '==':\n",
    "        if object2 == amount_for_condition:\n",
    "            return True\n",
    "    \n",
    "    elif condition_string == '!=':\n",
    "        if object2 != amount_for_condition:\n",
    "            return True\n",
    "    \n",
    "    return False"
   ]
  },
  {
   "cell_type": "code",
   "execution_count": 7,
   "metadata": {
    "collapsed": true
   },
   "outputs": [],
   "source": [
    "max_value = 0\n",
    "\n",
    "for _, row in df.iterrows():\n",
    "    # Check if condition is met:\n",
    "    if max(objects.values()) > max_value:\n",
    "        max_value = max(objects.values())\n",
    "    if apply_condition(row['condition'], objects[row['object2']], row['amount_for_condition']):\n",
    "        value = row['amount']\n",
    "        # If operator is to decrease, multiply value by -1\n",
    "        if row['operator'] == 'dec':\n",
    "            value *= -1\n",
    "        \n",
    "        # Update value\n",
    "        objects[row['object1']] += value"
   ]
  },
  {
   "cell_type": "code",
   "execution_count": 8,
   "metadata": {},
   "outputs": [
    {
     "data": {
      "text/plain": [
       "(3745, 4644)"
      ]
     },
     "execution_count": 8,
     "metadata": {},
     "output_type": "execute_result"
    }
   ],
   "source": [
    "max(objects.values()), max_value"
   ]
  },
  {
   "cell_type": "code",
   "execution_count": null,
   "metadata": {
    "collapsed": true
   },
   "outputs": [],
   "source": []
  }
 ],
 "metadata": {
  "kernelspec": {
   "display_name": "Python 3",
   "language": "python",
   "name": "python3"
  },
  "language_info": {
   "codemirror_mode": {
    "name": "ipython",
    "version": 3
   },
   "file_extension": ".py",
   "mimetype": "text/x-python",
   "name": "python",
   "nbconvert_exporter": "python",
   "pygments_lexer": "ipython3",
   "version": "3.6.0"
  }
 },
 "nbformat": 4,
 "nbformat_minor": 2
}
